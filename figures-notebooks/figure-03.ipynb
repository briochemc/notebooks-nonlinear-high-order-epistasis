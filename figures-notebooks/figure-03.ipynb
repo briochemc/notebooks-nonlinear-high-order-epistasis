{
 "cells": [
  {
   "cell_type": "markdown",
   "metadata": {},
   "source": [
    "# Figure 3"
   ]
  },
  {
   "cell_type": "markdown",
   "metadata": {},
   "source": [
    "In Figure 3, we show that its important to determine the phenotypic scale when estimating high-order\n",
    "epistatic interactions. If we ignore it, we could get spurious high-order epistastic coefficients. For example, if we assume mutations add together (the classical additive epistasis model) when they actually multiply (i.e. a multiplicative scale), we'd need high-order coefficients to explain the variation that arises due to scale. Interpreting these coefficients as actual epistatic interactions would be wrong. They are merely a consequence of missing the scale. Often, the expected phenotypic scale is unknown. We use a power transform to approximate the shape and minimize epistasis."
   ]
  },
  {
   "cell_type": "code",
   "execution_count": 1,
   "metadata": {
    "collapsed": true
   },
   "outputs": [],
   "source": [
    "%matplotlib inline\n",
    "import matplotlib.pyplot as plt\n",
    "import matplotlib.gridspec as gridspec\n",
    "import numpy as np\n",
    "\n",
    "from epistasis.simulate.linear import LinearSimulation\n",
    "from epistasis.simulate.nonlinear import NonlinearSimulation\n",
    "from epistasis import plot\n",
    "from epistasis.stats import pearson"
   ]
  },
  {
   "cell_type": "markdown",
   "metadata": {},
   "source": [
    "Construct a linear, high-order genotype-phenotype map."
   ]
  },
  {
   "cell_type": "code",
   "execution_count": 2,
   "metadata": {
    "collapsed": true
   },
   "outputs": [],
   "source": [
    "gpm_linear = LinearSimulation.from_length(5, model_type=\"global\")\n",
    "gpm_linear.set_coefs_order(5)\n",
    "gpm_linear.set_coefs_random((-.1,.1))\n",
    "values = np.array(gpm_linear.epistasis.values)"
   ]
  },
  {
   "cell_type": "code",
   "execution_count": 3,
   "metadata": {
    "collapsed": true
   },
   "outputs": [],
   "source": [
    "#### Values that were used in paper\n",
    "#```python\n",
    "values = np.array([  5.00000000e-01,   3.34951489e-03,   1.28477614e-01,  \n",
    "         6.61096956e-02,   1.31881709e-01,   4.33546996e-02, \n",
    "         5.30164499e-03,   5.64883892e-04,  -3.79155229e-04,  \n",
    "        -7.29823966e-03,  -6.95384520e-03,   6.20585012e-03,  \n",
    "         5.19262442e-03,  -5.85750554e-03,   6.05720340e-03,  \n",
    "        -7.09030059e-03,   4.52295895e-03,   1.66726657e-03,  \n",
    "         4.24449352e-03,  -6.34035176e-03,  -4.60532326e-03, \n",
    "        -4.23098101e-03,   3.38367575e-03,   6.95966457e-03,\n",
    "        -4.60099122e-03,   4.35709384e-05,  -9.14285188e-03,\n",
    "         8.16217118e-03,  -1.35571003e-03,   5.09411701e-03, \n",
    "        -7.08329281e-03,   3.06894361e-03])\n",
    "\n",
    "gpm_linear.epistasis.values = np.array(values)\n",
    "#```"
   ]
  },
  {
   "cell_type": "markdown",
   "metadata": {},
   "source": [
    "## Nonlinearity and epistasis show different patterns of variation"
   ]
  },
  {
   "cell_type": "markdown",
   "metadata": {},
   "source": [
    "We begin by defining a nonlinear relationship to our observable phenotype and an underlying additive phenotype -- a simple saturation model. \n",
    "$$\n",
    "p_{obs} = \\frac{(k + 1) \\cdot x}{k \\cdot x + 1}\n",
    "$$\n",
    "We will dope in different \"amounts\" of nonlinearity by increasing $k$"
   ]
  },
  {
   "cell_type": "code",
   "execution_count": 4,
   "metadata": {
    "collapsed": true
   },
   "outputs": [],
   "source": [
    "def saturation(x, k):\n",
    "    return ((k+1)*x) / (k*x + 1) \n",
    "\n",
    "ks = [0,2,4] "
   ]
  },
  {
   "cell_type": "markdown",
   "metadata": {},
   "source": [
    "In the first example, we only include additive coefficients to construct the genotype-phenotype map. \n",
    "All epistatic coefficients are set to zero."
   ]
  },
  {
   "cell_type": "code",
   "execution_count": 5,
   "metadata": {
    "collapsed": false
   },
   "outputs": [
    {
     "data": {
      "text/plain": [
       "(<matplotlib.figure.Figure at 0x10c5a1748>,\n",
       " [<matplotlib.axes._subplots.AxesSubplot at 0x10c5b40f0>,\n",
       "  <matplotlib.axes._subplots.AxesSubplot at 0x10ec4b828>])"
      ]
     },
     "execution_count": 5,
     "metadata": {},
     "output_type": "execute_result"
    },
    {
     "data": {
      "image/png": "[encoded data removed]",
      "text/plain": [
       "<matplotlib.figure.Figure at 0x10c5a1748>"
      ]
     },
     "metadata": {},
     "output_type": "display_data"
    }
   ],
   "source": [
    "# plot with no epistasis\n",
    "gpm_linear.epistasis.values[6:] = values[6:] * 0  \n",
    "gpm_linear.build()\n",
    "\n",
    "# plot the epistatic coefficient\n",
    "plot.coefs(gpm_linear.epistasis.values, gpm_linear.epistasis.sites, figsize=(3,3), ybounds=(-.14,.14))"
   ]
  },
  {
   "cell_type": "markdown",
   "metadata": {},
   "source": [
    "As we dope in nonlinearity to the genotype-phenotype map, patterns that might look like high-order epistasis arises. These coefficients, however, are spurious."
   ]
  },
  {
   "cell_type": "code",
   "execution_count": 6,
   "metadata": {
    "collapsed": false
   },
   "outputs": [
    {
     "data": {
      "image/png": "[encoded data removed]",
      "text/plain": [
       "<matplotlib.figure.Figure at 0x10ef6d668>"
      ]
     },
     "metadata": {},
     "output_type": "display_data"
    }
   ],
   "source": [
    "fig = plt.figure(figsize=(8,2))\n",
    "gs = gridspec.GridSpec(1, 3, wspace=0.5)\n",
    "\n",
    "\n",
    "#additive_coefs = gpm_linear.epistasis.get_orders(0,1)\n",
    "#padd = gpm_linear.X[:,:6], gpm_linear.epistasis.get_orders(0,1)\n",
    "\n",
    "# Iterate through different values of k\n",
    "for i, k in enumerate(ks):\n",
    "    # Construct a nonlinear space from linear\n",
    "    gpm_nonlinear = NonlinearSimulation.from_linear(gpm_linear, function=saturation, p0=(k,), model_type=\"global\")\n",
    "    \n",
    "    # construct the subplot\n",
    "    ax = plt.subplot(gs[:, i])\n",
    "    fig, ax = plot.corr(gpm_linear.p_additive, gpm_nonlinear.phenotypes, fig=fig, ax=ax)\n",
    "    ax.axis([0,1,0,1.02])\n",
    "    ax.set_xlabel(\"$p_{add}$\", fontsize=12)\n",
    "    ax.set_ylabel(\"$p_{obs}$\", fontsize=12)"
   ]
  },
  {
   "cell_type": "markdown",
   "metadata": {},
   "source": [
    "In the two following spaces, we increase the magnitude of epistasis and watch the $P_{obs}$ vs. $P_{add}$ curves."
   ]
  },
  {
   "cell_type": "code",
   "execution_count": 7,
   "metadata": {
    "collapsed": false
   },
   "outputs": [
    {
     "data": {
      "image/png": "[encoded data removed]",
      "text/plain": [
       "<matplotlib.figure.Figure at 0x10effabe0>"
      ]
     },
     "metadata": {},
     "output_type": "display_data"
    },
    {
     "data": {
      "image/png": "[encoded data removed]",
      "text/plain": [
       "<matplotlib.figure.Figure at 0x102931550>"
      ]
     },
     "metadata": {},
     "output_type": "display_data"
    }
   ],
   "source": [
    "#### increase the high-order epistasis\n",
    "gpm_linear.epistasis.values[6:] = values[6:] * 1 \n",
    "gpm_linear.build()\n",
    "\n",
    "# plot the epistatic coefficient\n",
    "fig, ax = plot.coefs(gpm_linear.epistasis.values, gpm_linear.epistasis.sites, figsize=(3,3), ybounds=(-.14,.14))\n",
    "\n",
    "#### Dope in nonlinear epistasis!\n",
    "fig = plt.figure(figsize=(8,2))\n",
    "gs = gridspec.GridSpec(1, 3, wspace=0.5)\n",
    "\n",
    "# Iterate through different values of k\n",
    "for i, k in enumerate(ks):\n",
    "    # Construct a nonlinear space from linear\n",
    "    gpm_nonlinear = NonlinearSimulation.from_linear(gpm_linear, function=saturation, p0=(k,), model_type=\"global\")\n",
    "    \n",
    "    # construct the subplot\n",
    "    ax = plt.subplot(gs[:, i])\n",
    "    fig, ax = plot.corr(gpm_linear.p_additive, gpm_nonlinear.phenotypes, fig=fig, ax=ax)\n",
    "    ax.axis([0,1,0,1.02])\n",
    "    ax.set_xlabel(\"$p_{add}$\", fontsize=12)\n",
    "    ax.set_ylabel(\"$p_{obs}$\", fontsize=12)"
   ]
  },
  {
   "cell_type": "code",
   "execution_count": 8,
   "metadata": {
    "collapsed": false
   },
   "outputs": [
    {
     "data": {
      "image/png": "[encoded data removed]",
      "text/plain": [
       "<matplotlib.figure.Figure at 0x10f6a9ef0>"
      ]
     },
     "metadata": {},
     "output_type": "display_data"
    },
    {
     "data": {
      "image/png": "[encoded data removed]",
      "text/plain": [
       "<matplotlib.figure.Figure at 0x10f071f28>"
      ]
     },
     "metadata": {},
     "output_type": "display_data"
    }
   ],
   "source": [
    "# increase the high-order epistasis\n",
    "gpm_linear.epistasis.values[6:] = values[6:] * 2  \n",
    "gpm_linear.build()\n",
    "\n",
    "# plot the epistatic coefficient\n",
    "plot.coefs(gpm_linear.epistasis.values, gpm_linear.epistasis.sites, figsize=(3,3), ybounds=(-.14,.14))\n",
    "\n",
    "fig = plt.figure(figsize=(8,2))\n",
    "gs = gridspec.GridSpec(1, 3, wspace=0.5)\n",
    "\n",
    "# Iterate through different values of k\n",
    "for i, k in enumerate(ks):\n",
    "    # Construct a nonlinear space from linear\n",
    "    gpm_nonlinear = NonlinearSimulation.from_linear(gpm_linear, function=saturation, p0=(k,), model_type=\"global\")\n",
    "    \n",
    "    # construct the subplot\n",
    "    ax = plt.subplot(gs[:, i])\n",
    "    fig, ax = plot.corr(gpm_linear.p_additive, gpm_nonlinear.phenotypes, fig=fig, ax=ax)\n",
    "    ax.axis([0,1,0,1.02])\n",
    "    ax.set_xlabel(\"$p_{add}$\", fontsize=12)\n",
    "    ax.set_ylabel(\"$p_{obs}$\", fontsize=12)"
   ]
  },
  {
   "cell_type": "markdown",
   "metadata": {},
   "source": [
    "## Fit a nonlinear genotype-phenotype map with a nonlinear least squares epistasis regression."
   ]
  },
  {
   "cell_type": "code",
   "execution_count": 9,
   "metadata": {
    "collapsed": true
   },
   "outputs": [],
   "source": [
    "from epistasis.models.power import EpistasisPowerTransform\n",
    "from epistasis.models.linear import EpistasisLinearRegression"
   ]
  },
  {
   "cell_type": "markdown",
   "metadata": {},
   "source": [
    "Now, let's fit a nonlinear-genotype-phenotype map with a nonlinear high-order epistasis model. We will use the same map as the examples above, with $1 \\times$ the epistasis, and $k=2$"
   ]
  },
  {
   "cell_type": "code",
   "execution_count": 28,
   "metadata": {
    "collapsed": true
   },
   "outputs": [],
   "source": [
    "# Reinit our linear epistasis map with \n",
    "gpm_linear.epistasis.values[6:] = values[6:] * 1\n",
    "gpm_linear.build()\n",
    "\n",
    "# Dope in nonlinearity\n",
    "k = 2\n",
    "gpm_nonlinear = NonlinearSimulation.from_linear(gpm_linear, function=saturation, p0=(k,), model_type=\"global\")"
   ]
  },
  {
   "cell_type": "markdown",
   "metadata": {},
   "source": [
    "If we fit the genotype-phenotype map with a linear epistasis model, ignoring the scale, we get spurious epistatic coefficients."
   ]
  },
  {
   "cell_type": "code",
   "execution_count": 29,
   "metadata": {
    "collapsed": false
   },
   "outputs": [
    {
     "data": {
      "text/plain": [
       "<matplotlib.text.Text at 0x10f02acc0>"
      ]
     },
     "execution_count": 29,
     "metadata": {},
     "output_type": "execute_result"
    },
    {
     "data": {
      "image/png": "[encoded data removed]",
      "text/plain": [
       "<matplotlib.figure.Figure at 0x10f727438>"
      ]
     },
     "metadata": {},
     "output_type": "display_data"
    }
   ],
   "source": [
    "model_coefs = EpistasisLinearRegression.read_gpm(gpm_nonlinear, order=5, model_type=\"global\")\n",
    "model_coefs.fit()\n",
    "\n",
    "known = gpm_linear.epistasis.values[6:]\n",
    "fit = model_coefs.epistasis.values[6:]\n",
    "fig, ax1 = plot.corr(known, fit, figsize=(3,3))\n",
    "ax1.axis([-.01,.01,-.01,.01])\n",
    "rsquared = \"$R^2$ = \" + str(round(pearson(known, fit)**2, 2))\n",
    "ax1.annotate(rsquared, xy=(0, -.005))\n",
    "ax1.set_xlabel(\"Input coefficients\")\n",
    "ax1.set_ylabel(\"Fit coefficients\")"
   ]
  },
  {
   "cell_type": "markdown",
   "metadata": {},
   "source": [
    "Now, we'll use a power transform the back out the phenotypic scale."
   ]
  },
  {
   "cell_type": "code",
   "execution_count": 33,
   "metadata": {
    "collapsed": false
   },
   "outputs": [
    {
     "name": "stdout",
     "output_type": "stream",
     "text": [
      "r-squared: (0.98160373576526738, 1.0)\n",
      "Parameter values: {'lmbda': -2.0559905874697186, 'A': 0.5986321533051604, 'B': 0.27876304959894505}\n"
     ]
    },
    {
     "data": {
      "image/png": "[encoded data removed]",
      "text/plain": [
       "<matplotlib.figure.Figure at 0x10f70b470>"
      ]
     },
     "metadata": {},
     "output_type": "display_data"
    }
   ],
   "source": [
    "model_nonlinear = EpistasisPowerTransform.read_gpm(gpm_nonlinear, order=5, model_type=\"global\")\n",
    "model_nonlinear.fit(lmbda=1, A=0, B=0) # arguments are initial guess.\n",
    "print(\"r-squared: \" + str(model_nonlinear.score()))\n",
    "print(\"Parameter values: \" + str(model_nonlinear.parameters()))\n",
    "\n",
    "padd = model_nonlinear.Additive.predict()\n",
    "pobs =  model_nonlinear.gpm.phenotypes\n",
    "fig, ax = plot.corr(padd, pobs, figsize=(3,3))\n",
    "xmodel = np.linspace(min(padd), max(padd), 1000)\n",
    "ymodel = model_nonlinear.function(xmodel, *model_nonlinear.parameters.get_params())\n",
    "ax.plot(xmodel, ymodel, '-')\n",
    "z = ax.axis([.2,1.2,.2,1.2])"
   ]
  },
  {
   "cell_type": "code",
   "execution_count": 34,
   "metadata": {
    "collapsed": true
   },
   "outputs": [
    {
     "data": {
      "text/plain": [
       "EpistasisLinearRegression(model_type='global', n_jobs=1, order=5)"
      ]
     },
     "execution_count": 34,
     "metadata": {},
     "output_type": "execute_result"
    }
   ],
   "source": [
    "linear_phenotypes = model_nonlinear.Linear.predict()\n",
    "model_coefs = EpistasisLinearRegression.read_data(\n",
    "    gpm_nonlinear.wildtype,\n",
    "    gpm_nonlinear.genotypes,\n",
    "    linear_phenotypes,\n",
    "    order=5,\n",
    "    model_type=\"global\"\n",
    ")\n",
    "model_coefs.fit()"
   ]
  },
  {
   "cell_type": "markdown",
   "metadata": {},
   "source": [
    "## How did we do?\n",
    "\n",
    "Let's look at the correlation between the input coefficients and our model's coefficients -- **much improved!**"
   ]
  },
  {
   "cell_type": "code",
   "execution_count": 37,
   "metadata": {
    "collapsed": false
   },
   "outputs": [
    {
     "data": {
      "text/plain": [
       "<matplotlib.text.Text at 0x10f88fd68>"
      ]
     },
     "execution_count": 37,
     "metadata": {},
     "output_type": "execute_result"
    },
    {
     "data": {
      "image/png": "[encoded data removed]",
      "text/plain": [
       "<matplotlib.figure.Figure at 0x10f026320>"
      ]
     },
     "metadata": {},
     "output_type": "display_data"
    }
   ],
   "source": [
    "known =  gpm_linear.epistasis.values[6:]\n",
    "fit =  model_coefs.epistasis.values[6:]\n",
    "fig, ax1 = plot.corr(known, fit, figsize=(3,3))\n",
    "ax1.axis([-.01,.01,-.01,.01])\n",
    "rsquared = \"$R^2$ = \" + str(round(pearson(known, fit)**2, 2))\n",
    "ax1.annotate(rsquared, xy=(0, -.005))\n",
    "ax1.set_xlabel(\"Input coefficients\")\n",
    "ax1.set_ylabel(\"Fit coefficients\")"
   ]
  }
 ],
 "metadata": {
  "kernelspec": {
   "display_name": "Python 3",
   "language": "python",
   "name": "python3"
  },
  "language_info": {
   "codemirror_mode": {
    "name": "ipython",
    "version": 3
   },
   "file_extension": ".py",
   "mimetype": "text/x-python",
   "name": "python",
   "nbconvert_exporter": "python",
   "pygments_lexer": "ipython3",
   "version": "3.6.2"
  }
 },
 "nbformat": 4,
 "nbformat_minor": 2
}
