{
 "cells": [
  {
   "cell_type": "markdown",
   "metadata": {
    "deletable": true,
    "editable": true
   },
   "source": [
    "# Figure 4"
   ]
  },
  {
   "cell_type": "markdown",
   "metadata": {
    "deletable": true,
    "editable": true
   },
   "source": [
    "We use a power-transform to estimate the shape of the nonlinear\n",
    "shape of the genotype-phenotype map."
   ]
  },
  {
   "cell_type": "code",
   "execution_count": 1,
   "metadata": {
    "collapsed": false,
    "deletable": true,
    "editable": true
   },
   "outputs": [],
   "source": [
    "%matplotlib inline\n",
    "import matplotlib.pyplot as plt\n",
    "import matplotlib.gridspec as gridspec\n",
    "import numpy as np\n",
    "\n",
    "from gpmap import GenotypePhenotypeMap\n",
    "from epistasis.stats import pearson\n",
    "from epistasis import plot\n",
    "from epistasis.models.power import EpistasisPowerTransform"
   ]
  },
  {
   "cell_type": "markdown",
   "metadata": {
    "deletable": true,
    "editable": true
   },
   "source": [
    "## Data set I"
   ]
  },
  {
   "cell_type": "code",
   "execution_count": 50,
   "metadata": {
    "collapsed": false,
    "deletable": true,
    "editable": true
   },
   "outputs": [
    {
     "name": "stdout",
     "output_type": "stream",
     "text": [
      "{'lmbda': -0.040604557902018751, 'A': 1.0425505519147424, 'B': -0.59914339262877003}\n"
     ]
    },
    {
     "data": {
      "text/plain": [
       "[]"
      ]
     },
     "execution_count": 50,
     "metadata": {},
     "output_type": "execute_result"
    },
    {
     "data": {
      "image/png": "[encoded data removed]",
      "text/plain": [
       "<matplotlib.figure.Figure at 0x112247828>"
      ]
     },
     "metadata": {},
     "output_type": "display_data"
    }
   ],
   "source": [
    "# Path to dataset\n",
    "dataset = \"khan\"\n",
    "path_data = \"../datasets/\" + dataset + \".json\"\n",
    "\n",
    "model = EpistasisPowerTransform.read_json(path_data, order=1, model_type=\"global\")\n",
    "model.fit(lmbda=-1, A=0, B=0)\n",
    "print(model.parameters())\n",
    "\n",
    "################### Plotting ######################\n",
    "fig = plt.figure(figsize=(4,4))\n",
    "gs = gridspec.GridSpec(2,2, height_ratios=[4,1], width_ratios=[4,1])\n",
    "# Construct grid.\n",
    "ax_c = fig.add_subplot(gs[0:1, 0:1])\n",
    "ax_r = fig.add_subplot(gs[1: , 0:1], sharex=ax_c)\n",
    "ax_h = fig.add_subplot(gs[1: , 1: ], sharey=ax_r)\n",
    "\n",
    "### correlation plot\n",
    "# Infer P_additive\n",
    "padd = model.Additive.predict()\n",
    "\n",
    "# Plot correlation\n",
    "plot.corr(padd, model.gpm.phenotypes, fig=fig, ax=ax_c)\n",
    "ax_c.axis([0.95, 1.35, 0.95, 1.35]) \n",
    "\n",
    "# Plot the nonlinear fit\n",
    "xmodel = np.linspace(min(padd), max(padd), 1000)\n",
    "ymodel = model.function(xmodel, *model.parameters.get_params())\n",
    "ax_c.plot(xmodel, ymodel, '-r', linewidth=2)\n",
    "\n",
    "### Plot residuals between observed phenotypes and nonlinear fit\n",
    "ydata = model.gpm.phenotypes\n",
    "ymod = model.function(padd, *model.parameters.get_params())\n",
    "resid = ymod - ydata\n",
    "ax_r.plot(padd, resid, '.')\n",
    "ax_r.hlines(0,min(padd), max(padd), linestyle=\"--\", color=\"gray\")\n",
    "ax_r.spines[\"right\"].set_visible(False)\n",
    "ax_r.spines[\"top\"].set_visible(False)\n",
    "\n",
    "### histogram\n",
    "ax_h.hist(resid, bins=10, orientation=\"horizontal\")\n",
    "ax_h.spines[\"right\"].set_visible(False)\n",
    "ax_h.spines[\"top\"].set_visible(False)\n",
    "ax_h.spines[\"bottom\"].set_visible(False)\n",
    "ax_h.set_xticks([])"
   ]
  },
  {
   "cell_type": "markdown",
   "metadata": {
    "deletable": true,
    "editable": true
   },
   "source": [
    "# Data set II"
   ]
  },
  {
   "cell_type": "code",
   "execution_count": 47,
   "metadata": {
    "collapsed": false,
    "deletable": true,
    "editable": true
   },
   "outputs": [
    {
     "name": "stdout",
     "output_type": "stream",
     "text": [
      "{'lmbda': -4.5433960444848207, 'A': 0.75589205303026974, 'B': -1.256320040017457}\n"
     ]
    },
    {
     "data": {
      "text/plain": [
       "[]"
      ]
     },
     "execution_count": 47,
     "metadata": {},
     "output_type": "execute_result"
    },
    {
     "data": {
      "image/png": "[encoded data removed]",
      "text/plain": [
       "<matplotlib.figure.Figure at 0x11290fb38>"
      ]
     },
     "metadata": {},
     "output_type": "display_data"
    }
   ],
   "source": [
    "# Path to dataset\n",
    "dataset = \"krug1\"\n",
    "path_data = \"../datasets/\" + dataset + \".json\"\n",
    "\n",
    "model = EpistasisPowerTransform.read_json(path_data, order=1, model_type=\"global\")\n",
    "model.fit(lmbda=-0.5, A=1, B=0)\n",
    "print(model.parameters())\n",
    "\n",
    "################### Plotting ######################\n",
    "fig = plt.figure(figsize=(4,4))\n",
    "gs = gridspec.GridSpec(2,2, height_ratios=[4,1], width_ratios=[4,1])\n",
    "# Construct grid.\n",
    "ax_c = fig.add_subplot(gs[0:1, 0:1])\n",
    "ax_r = fig.add_subplot(gs[1: , 0:1], sharex=ax_c)\n",
    "ax_h = fig.add_subplot(gs[1: , 1: ], sharey=ax_r)\n",
    "\n",
    "### correlation plot\n",
    "# Infer P_additive\n",
    "padd = model.Additive.predict()\n",
    "\n",
    "# Plot correlation\n",
    "plot.corr(padd, model.gpm.phenotypes, fig=fig, ax=ax_c)\n",
    "ax_c.axis([0.6,1.0, 0.6, 1.0])\n",
    "\n",
    "# Plot the nonlinear fit\n",
    "xmodel = np.linspace(min(padd), max(padd), 1000)\n",
    "ymodel = model.function(xmodel, *model.parameters.get_params())\n",
    "ax_c.plot(xmodel, ymodel, '-r', linewidth=2)\n",
    "\n",
    "### Plot residuals between observed phenotypes and nonlinear fit\n",
    "ydata = model.gpm.phenotypes\n",
    "ymod = model.function(padd, *model.parameters.get_params())\n",
    "resid = ymod - ydata\n",
    "ax_r.plot(padd, resid, '.')\n",
    "ax_r.hlines(0,min(padd), max(padd), linestyle=\"--\", color=\"gray\")\n",
    "ax_r.spines[\"right\"].set_visible(False)\n",
    "ax_r.spines[\"top\"].set_visible(False)\n",
    "\n",
    "### histogram\n",
    "ax_h.hist(resid, bins=10, orientation=\"horizontal\")\n",
    "ax_h.spines[\"right\"].set_visible(False)\n",
    "ax_h.spines[\"top\"].set_visible(False)\n",
    "ax_h.spines[\"bottom\"].set_visible(False)\n",
    "ax_h.set_xticks([])"
   ]
  },
  {
   "cell_type": "code",
   "execution_count": 44,
   "metadata": {
    "collapsed": false,
    "deletable": true,
    "editable": true
   },
   "outputs": [
    {
     "name": "stdout",
     "output_type": "stream",
     "text": [
      "{'lmbda': 226.45420902746042, 'A': 21.664149691954346, 'B': 0.95817921817903351}\n"
     ]
    },
    {
     "data": {
      "text/plain": [
       "[]"
      ]
     },
     "execution_count": 44,
     "metadata": {},
     "output_type": "execute_result"
    },
    {
     "data": {
      "image/png": "[encoded data removed]",
      "text/plain": [
       "<matplotlib.figure.Figure at 0x112158b70>"
      ]
     },
     "metadata": {},
     "output_type": "display_data"
    }
   ],
   "source": [
    "# Path to dataset\n",
    "dataset = \"weinreich\"\n",
    "path_data = \"../datasets/\" + dataset + \".json\"\n",
    "\n",
    "model = EpistasisPowerTransform.read_json(path_data, order=1, model_type=\"global\")\n",
    "model.fit(lmbda=-1, A=0, B=0)\n",
    "print(model.parameters())\n",
    "\n",
    "################### Plotting ######################\n",
    "fig = plt.figure(figsize=(4,4))\n",
    "gs = gridspec.GridSpec(2,2, height_ratios=[4,1], width_ratios=[4,1])\n",
    "# Construct grid.\n",
    "ax_c = fig.add_subplot(gs[0:1, 0:1])\n",
    "ax_r = fig.add_subplot(gs[1: , 0:1], sharex=ax_c)\n",
    "ax_h = fig.add_subplot(gs[1: , 1: ], sharey=ax_r)\n",
    "\n",
    "### correlation plot\n",
    "# Infer P_additive\n",
    "padd = model.Additive.predict()\n",
    "\n",
    "# Plot correlation\n",
    "plot.corr(padd, model.gpm.phenotypes, fig=fig, ax=ax_c)\n",
    "ax_c.axis([0.95, 1.25, 0.95, 1.25])\n",
    "\n",
    "# Plot the nonlinear fit\n",
    "xmodel = np.linspace(min(padd), max(padd), 1000)\n",
    "ymodel = model.function(xmodel, *model.parameters.get_params())\n",
    "ax_c.plot(xmodel, ymodel, '-r', linewidth=2)\n",
    "\n",
    "### Plot residuals between observed phenotypes and nonlinear fit\n",
    "ydata = model.gpm.phenotypes\n",
    "ymod = model.function(padd, *model.parameters.get_params())\n",
    "resid = ymod - ydata\n",
    "ax_r.plot(padd, resid, '.')\n",
    "ax_r.hlines(0,min(padd), max(padd), linestyle=\"--\", color=\"gray\")\n",
    "ax_r.spines[\"right\"].set_visible(False)\n",
    "ax_r.spines[\"top\"].set_visible(False)\n",
    "\n",
    "### histogram\n",
    "ax_h.hist(resid, bins=10, orientation=\"horizontal\")\n",
    "ax_h.spines[\"right\"].set_visible(False)\n",
    "ax_h.spines[\"top\"].set_visible(False)\n",
    "ax_h.spines[\"bottom\"].set_visible(False)\n",
    "ax_h.set_xticks([])"
   ]
  },
  {
   "cell_type": "markdown",
   "metadata": {
    "deletable": true,
    "editable": true
   },
   "source": [
    "## Data set IV"
   ]
  },
  {
   "cell_type": "markdown",
   "metadata": {
    "deletable": true,
    "editable": true
   },
   "source": [
    "Data set IV was published as $\\Delta G$s, but were given to us as $k_a$s. Before fitting with a nonlinear epistasis model, we converted the values to $\\Delta G$s to be consistent with the literature."
   ]
  },
  {
   "cell_type": "code",
   "execution_count": 40,
   "metadata": {
    "collapsed": false,
    "deletable": true,
    "editable": true
   },
   "outputs": [
    {
     "name": "stdout",
     "output_type": "stream",
     "text": [
      "{'lmbda': 2.9273639529640119, 'A': -2.3368072262972013, 'B': 5.1590738396726721}\n"
     ]
    },
    {
     "data": {
      "text/plain": [
       "[]"
      ]
     },
     "execution_count": 40,
     "metadata": {},
     "output_type": "execute_result"
    },
    {
     "data": {
      "image/png": "[encoded data removed]",
      "text/plain": [
       "<matplotlib.figure.Figure at 0x1112b27f0>"
      ]
     },
     "metadata": {},
     "output_type": "display_data"
    }
   ],
   "source": [
    "# Path to dataset\n",
    "dataset = \"anderson\"\n",
    "path_data = \"../datasets/\" + dataset + \".json\"\n",
    "\n",
    "# gas constant and temperature\n",
    "R = 1.9872036e-3\n",
    "T = 293\n",
    "\n",
    "gpm = GenotypePhenotypeMap.read_json(path_data)\n",
    "gpm.phenotypes = - np.log(gpm.phenotypes) * R * T \n",
    "\n",
    "model = EpistasisPowerTransform.read_gpm(gpm, order=1, model_type=\"global\")\n",
    "model.fit(lmbda=-1, A=0, B=0)\n",
    "print(model.parameters())\n",
    "\n",
    "################### Plotting ######################\n",
    "fig = plt.figure(figsize=(4,4))\n",
    "gs = gridspec.GridSpec(2,2, height_ratios=[4,1], width_ratios=[4,1])\n",
    "# Construct grid.\n",
    "ax_c = fig.add_subplot(gs[0:1, 0:1])\n",
    "ax_r = fig.add_subplot(gs[1: , 0:1], sharex=ax_c)\n",
    "ax_h = fig.add_subplot(gs[1: , 1: ], sharey=ax_r)\n",
    "\n",
    "### correlation plot\n",
    "# Infer P_additive\n",
    "padd = model.Additive.predict()\n",
    "\n",
    "# Plot correlation\n",
    "plot.corr(padd, model.gpm.phenotypes, fig=fig, ax=ax_c)\n",
    "\n",
    "# Plot the nonlinear fit\n",
    "xmodel = np.linspace(min(padd), max(padd), 1000)\n",
    "ymodel = model.function(xmodel, *model.parameters.get_params())\n",
    "ax_c.plot(xmodel, ymodel, '-r', linewidth=2)\n",
    "\n",
    "### Plot residuals between observed phenotypes and nonlinear fit\n",
    "ydata = model.gpm.phenotypes\n",
    "ymod = model.function(padd, *model.parameters.get_params())\n",
    "resid = ymod - ydata\n",
    "ax_r.plot(padd, resid, '.')\n",
    "ax_r.hlines(0,min(padd), max(padd), linestyle=\"--\", color=\"gray\")\n",
    "ax_r.set_ylim(-2,2)\n",
    "ax_r.spines[\"right\"].set_visible(False)\n",
    "ax_r.spines[\"top\"].set_visible(False)\n",
    "\n",
    "### histogram\n",
    "ax_h.hist(resid, bins=10, orientation=\"horizontal\")\n",
    "ax_h.set_ylim(-2,2)\n",
    "ax_h.spines[\"right\"].set_visible(False)\n",
    "ax_h.spines[\"top\"].set_visible(False)\n",
    "ax_h.spines[\"bottom\"].set_visible(False)\n",
    "ax_h.set_xticks([])"
   ]
  }
 ],
 "metadata": {
  "kernelspec": {
   "display_name": "Python 3",
   "language": "python",
   "name": "python3"
  },
  "language_info": {
   "codemirror_mode": {
    "name": "ipython",
    "version": 3
   },
   "file_extension": ".py",
   "mimetype": "text/x-python",
   "name": "python",
   "nbconvert_exporter": "python",
   "pygments_lexer": "ipython3",
   "version": "3.6.2"
  }
 },
 "nbformat": 4,
 "nbformat_minor": 2
}
