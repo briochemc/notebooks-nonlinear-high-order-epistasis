{
 "cells": [
  {
   "cell_type": "markdown",
   "metadata": {},
   "source": [
    "# Figure 5"
   ]
  },
  {
   "cell_type": "markdown",
   "metadata": {},
   "source": [
    "In Figure 5, we show nonlinear, high-order epistasis fits for all data sets."
   ]
  },
  {
   "cell_type": "code",
   "execution_count": 1,
   "metadata": {
    "collapsed": true
   },
   "outputs": [],
   "source": [
    "%matplotlib inline\n",
    "import matplotlib.pyplot as plt\n",
    "import numpy as np\n",
    "from gpmap import GenotypePhenotypeMap\n",
    "from epistasis import plot\n",
    "from epistasis.models import EpistasisPowerTransform, EpistasisLinearRegression\n",
    "\n",
    "path = \"../datasets/\""
   ]
  },
  {
   "cell_type": "markdown",
   "metadata": {},
   "source": [
    "## Data set I"
   ]
  },
  {
   "cell_type": "code",
   "execution_count": 14,
   "metadata": {
    "collapsed": false
   },
   "outputs": [
    {
     "name": "stdout",
     "output_type": "stream",
     "text": [
      "Power transform parameters: {'lmbda': -4.5433960444848207, 'A': 0.75589205303026974, 'B': -1.256320040017457}\n",
      "0.556946915519\n",
      "0.686521605923\n",
      "0.839272429464\n",
      "0.93867620697\n",
      "1.0\n"
     ]
    },
    {
     "data": {
      "text/plain": [
       "<matplotlib.text.Text at 0x117d524e0>"
      ]
     },
     "execution_count": 14,
     "metadata": {},
     "output_type": "execute_result"
    },
    {
     "data": {
      "image/png": "[encoded data removed]",
      "text/plain": [
       "<matplotlib.figure.Figure at 0x1188f5748>"
      ]
     },
     "metadata": {},
     "output_type": "display_data"
    },
    {
     "data": {
      "image/png": "[encoded data removed]",
      "text/plain": [
       "<matplotlib.figure.Figure at 0x1188f57f0>"
      ]
     },
     "metadata": {},
     "output_type": "display_data"
    }
   ],
   "source": [
    "dataset = path + \"krug1.json\"\n",
    "\n",
    "# Fit with nonlinear model\n",
    "nonlinear = EpistasisPowerTransform.read_json(dataset, order=5, model_type=\"global\", fix_linear=True)\n",
    "nonlinear.fit(lmbda=-.5, A=1, B=0)\n",
    "print(\"Power transform parameters: \" + str(nonlinear.parameters()))\n",
    "plinear = nonlinear.Linear.predict()\n",
    "\n",
    "# Fit high-order epistasis in linear phenotypes\n",
    "rsq = []\n",
    "for order in range(1,6):\n",
    "    linear = EpistasisLinearRegression.read_data(nonlinear.gpm.wildtype, nonlinear.gpm.genotypes, plinear, model_type=\"global\", order=order)\n",
    "    linear.fit()\n",
    "    rsq.append(linear.score())\n",
    "\n",
    "# Plot the coefs\n",
    "plot.coefs(linear.epistasis.values, linear.epistasis.sites, figsize=(4,5))\n",
    "\n",
    "# Plot the fraction explained\n",
    "frac_ex = [rsq[0]] + [rsq[i+1] - rsq[i] for i, r in enumerate(rsq[1:])]\n",
    "fig, ax = plot.fraction_explained(frac_ex)\n",
    "ax.set_title(\"fraction explained\")"
   ]
  },
  {
   "cell_type": "markdown",
   "metadata": {},
   "source": [
    "# Data set II"
   ]
  },
  {
   "cell_type": "code",
   "execution_count": 16,
   "metadata": {
    "collapsed": false
   },
   "outputs": [
    {
     "name": "stdout",
     "output_type": "stream",
     "text": [
      "Power transform parameters: {'lmbda': 0.035919650898207887, 'A': 0.88278710308283126, 'B': -0.27355881536099641}\n"
     ]
    },
    {
     "data": {
      "text/plain": [
       "<matplotlib.text.Text at 0x119b76f28>"
      ]
     },
     "execution_count": 16,
     "metadata": {},
     "output_type": "execute_result"
    },
    {
     "data": {
      "image/png": "[encoded data removed]",
      "text/plain": [
       "<matplotlib.figure.Figure at 0x1197ca2b0>"
      ]
     },
     "metadata": {},
     "output_type": "display_data"
    },
    {
     "data": {
      "image/png": "[encoded data removed]",
      "text/plain": [
       "<matplotlib.figure.Figure at 0x119781048>"
      ]
     },
     "metadata": {},
     "output_type": "display_data"
    }
   ],
   "source": [
    "dataset = path + \"khan.json\"\n",
    "\n",
    "# Fit with nonlinear model\n",
    "nonlinear = EpistasisPowerTransform.read_json(dataset, order=5, model_type=\"global\", fix_linear=True)\n",
    "nonlinear.fit(lmbda=1, A=0, B=0)\n",
    "print(\"Power transform parameters: \" + str(nonlinear.parameters()))\n",
    "plinear = nonlinear.Linear.predict()\n",
    "\n",
    "# Fit high-order epistasis in linear phenotypes\n",
    "rsq = []\n",
    "for order in range(1,6):\n",
    "    linear = EpistasisLinearRegression.read_data(nonlinear.gpm.wildtype, nonlinear.gpm.genotypes, plinear, model_type=\"global\", order=order)\n",
    "    linear.fit()\n",
    "    rsq.append(linear.score())\n",
    "\n",
    "# Plot the coefs\n",
    "plot.coefs(linear.epistasis.values, linear.epistasis.sites, figsize=(4,5))\n",
    "\n",
    "# Plot the fraction explained\n",
    "frac_ex = [rsq[0]] + [rsq[i+1] - rsq[i] for i, r in enumerate(rsq[1:])]\n",
    "fig, ax = plot.fraction_explained(frac_ex)\n",
    "ax.set_title(\"fraction explained\")"
   ]
  },
  {
   "cell_type": "markdown",
   "metadata": {},
   "source": [
    "## Data set III"
   ]
  },
  {
   "cell_type": "code",
   "execution_count": 50,
   "metadata": {
    "collapsed": false
   },
   "outputs": [
    {
     "name": "stderr",
     "output_type": "stream",
     "text": [
      "/Users/Zsailer/Documents/Research/projects/pkgs/epistasis/epistasis/models/nonlinear/power.py:12: RuntimeWarning: overflow encountered in power\n",
      "  first = (x+A)**lmbda\n",
      "/Users/Zsailer/Documents/Research/projects/pkgs/epistasis/epistasis/models/nonlinear/power.py:13: RuntimeWarning: overflow encountered in double_scalars\n",
      "  out = (first - 1.0)/(lmbda * gmean**(lmbda-1)) + B\n",
      "/Users/Zsailer/Documents/Research/projects/pkgs/epistasis/epistasis/models/nonlinear/power.py:13: RuntimeWarning: invalid value encountered in true_divide\n",
      "  out = (first - 1.0)/(lmbda * gmean**(lmbda-1)) + B\n"
     ]
    },
    {
     "name": "stdout",
     "output_type": "stream",
     "text": [
      "Power transform parameters: {'lmbda': 226.46878479276236, 'A': 21.657783791055138, 'B': 0.95820679573867629}\n"
     ]
    },
    {
     "data": {
      "text/plain": [
       "<matplotlib.text.Text at 0x1235c7588>"
      ]
     },
     "execution_count": 50,
     "metadata": {},
     "output_type": "execute_result"
    },
    {
     "data": {
      "image/png": "[encoded data removed]",
      "text/plain": [
       "<matplotlib.figure.Figure at 0x11f751e48>"
      ]
     },
     "metadata": {},
     "output_type": "display_data"
    },
    {
     "data": {
      "image/png": "[encoded data removed]",
      "text/plain": [
       "<matplotlib.figure.Figure at 0x11f7512e8>"
      ]
     },
     "metadata": {},
     "output_type": "display_data"
    }
   ],
   "source": [
    "dataset = path + \"weinreich.json\"\n",
    "\n",
    "# Fit with nonlinear model\n",
    "nonlinear = EpistasisPowerTransform.from_json(dataset, order=1, model_type=\"global\", fix_linear=True)\n",
    "nonlinear.fit(lmbda=1, A=0, B=0)\n",
    "print(\"Power transform parameters: \" + str(nonlinear.parameters()))\n",
    "plinear = nonlinear.transform_target()\n",
    "\n",
    "# Fit high-order epistasis in linear phenotypes\n",
    "rsq = []\n",
    "for order in range(1,6):\n",
    "    linear = EpistasisLinearRegression.from_data(nonlinear.gpm.wildtype, nonlinear.gpm.genotypes, plinear, model_type=\"global\", order=order)\n",
    "    linear.fit()\n",
    "    rsq.append(linear.score())\n",
    "\n",
    "# Plot the coefs\n",
    "plot.coefs(linear.epistasis.values, linear.epistasis.labels, figsize=(4,5))\n",
    "\n",
    "# Plot the fraction explained\n",
    "frac_ex = [rsq[0]] + [rsq[i+1] - rsq[i] for i, r in enumerate(rsq[1:])]\n",
    "fig, ax = plot.fraction_explained(frac_ex)\n",
    "ax.set_title(\"fraction explained\")"
   ]
  },
  {
   "cell_type": "markdown",
   "metadata": {},
   "source": [
    "## Data set IV"
   ]
  },
  {
   "cell_type": "markdown",
   "metadata": {},
   "source": [
    "Data set IV was published as $\\Delta G$s, but were given to us as $k_a$s. Before fitting with a nonlinear epistasis model, we converted the values to $\\Delta G$s to be consistent with the literature."
   ]
  },
  {
   "cell_type": "code",
   "execution_count": 20,
   "metadata": {
    "collapsed": true
   },
   "outputs": [],
   "source": [
    "dataset = path + \"anderson.json\"\n",
    "\n",
    "# gas constant and temperature\n",
    "R = 1.9872036e-3\n",
    "T = 293\n",
    "\n",
    "gpm = GenotypePhenotypeMap.read_json(dataset)\n",
    "gpm.phenotypes = - np.log(gpm.phenotypes) * R * T "
   ]
  },
  {
   "cell_type": "code",
   "execution_count": 21,
   "metadata": {
    "collapsed": false
   },
   "outputs": [
    {
     "name": "stdout",
     "output_type": "stream",
     "text": [
      "Power transform parameters: {'lmbda': 2.9276966073815469, 'A': -2.3360117816731378, 'B': 5.1589717309407339}\n"
     ]
    },
    {
     "data": {
      "text/plain": [
       "<matplotlib.text.Text at 0x11b8d20f0>"
      ]
     },
     "execution_count": 21,
     "metadata": {},
     "output_type": "execute_result"
    },
    {
     "data": {
      "image/png": "[encoded data removed]",
      "text/plain": [
       "<matplotlib.figure.Figure at 0x118933978>"
      ]
     },
     "metadata": {},
     "output_type": "display_data"
    },
    {
     "data": {
      "image/png": "[encoded data removed]",
      "text/plain": [
       "<matplotlib.figure.Figure at 0x1196fb780>"
      ]
     },
     "metadata": {},
     "output_type": "display_data"
    }
   ],
   "source": [
    "# Fit with nonlinear model\n",
    "nonlinear = EpistasisPowerTransform.read_gpm(gpm, order=5, model_type=\"global\", fix_linear=True)\n",
    "nonlinear.fit(lmbda=1, A=-.5, B=2)\n",
    "print(\"Power transform parameters: \" + str(nonlinear.parameters()))\n",
    "plinear = nonlinear.Linear.predict()\n",
    "\n",
    "# Fit high-order epistasis in linear phenotypes\n",
    "rsq = []\n",
    "for order in range(1,6):\n",
    "    linear = EpistasisLinearRegression.read_data(nonlinear.gpm.wildtype, nonlinear.gpm.genotypes, plinear, mutations=nonlinear.gpm.mutations, model_type=\"global\", order=order)\n",
    "    linear.fit()\n",
    "    rsq.append(linear.score())\n",
    "\n",
    "# Plot the coefs\n",
    "plot.coefs(linear.epistasis.values, linear.epistasis.sites, figsize=(8,5.5), ybounds=(-.7, .7))\n",
    "\n",
    "# Plot the fraction explained\n",
    "frac_ex = [rsq[0]] + [rsq[i+1] - rsq[i] for i, r in enumerate(rsq[1:])]\n",
    "fig, ax = plot.fraction_explained(frac_ex)\n",
    "ax.set_title(\"fraction explained\")"
   ]
  }
 ],
 "metadata": {
  "kernelspec": {
   "display_name": "Python 3",
   "language": "python",
   "name": "python3"
  },
  "language_info": {
   "codemirror_mode": {
    "name": "ipython",
    "version": 3
   },
   "file_extension": ".py",
   "mimetype": "text/x-python",
   "name": "python",
   "nbconvert_exporter": "python",
   "pygments_lexer": "ipython3",
   "version": "3.6.2"
  }
 },
 "nbformat": 4,
 "nbformat_minor": 2
}
