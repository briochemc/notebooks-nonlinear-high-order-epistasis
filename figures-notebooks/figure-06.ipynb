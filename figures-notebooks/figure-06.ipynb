{
 "cells": [
  {
   "cell_type": "markdown",
   "metadata": {},
   "source": [
    "# Figure 6"
   ]
  },
  {
   "cell_type": "markdown",
   "metadata": {},
   "source": [
    "In Figure 6, we are attempting to estimate just how wrong would our estimates of epistasis be if we didn't account for phenotypic scale. For each data set, we fit the genotype-phenotype map with a nonlinear model and a linear model and compared their estimated coefficients. "
   ]
  },
  {
   "cell_type": "code",
   "execution_count": 3,
   "metadata": {
    "collapsed": true
   },
   "outputs": [],
   "source": [
    "%matplotlib inline\n",
    "import matplotlib.pyplot as plt\n",
    "import numpy as np\n",
    "from gpmap import GenotypePhenotypeMap\n",
    "from epistasis import plot\n",
    "from epistasis.models import EpistasisPowerTransform, EpistasisLinearRegression\n",
    "from epistasis.stats import pearson\n",
    "\n",
    "path = \"../datasets/\""
   ]
  },
  {
   "cell_type": "markdown",
   "metadata": {},
   "source": [
    "# Data set I"
   ]
  },
  {
   "cell_type": "code",
   "execution_count": 9,
   "metadata": {
    "collapsed": false
   },
   "outputs": [
    {
     "data": {
      "text/plain": [
       "<matplotlib.text.Annotation at 0x110744780>"
      ]
     },
     "execution_count": 9,
     "metadata": {},
     "output_type": "execute_result"
    },
    {
     "data": {
      "image/png": "[encoded data removed]",
      "text/plain": [
       "<matplotlib.figure.Figure at 0x110841438>"
      ]
     },
     "metadata": {},
     "output_type": "display_data"
    }
   ],
   "source": [
    "dataset = path + \"khan.json\"\n",
    "\n",
    "# Fit with nonlinear model\n",
    "power = EpistasisPowerTransform.read_json(dataset, order=5, model_type=\"global\")\n",
    "power.fit(lmbda=-1, A=1, B=0)\n",
    "plinear = power.Linear.predict()\n",
    "nonlinear = EpistasisLinearRegression.read_data(power.gpm.wildtype, power.gpm.genotypes, plinear, model_type=\"global\", order=5)\n",
    "nonlinear.fit()\n",
    "\n",
    "linear = EpistasisLinearRegression.read_json(dataset, order=5, model_type=\"global\")\n",
    "linear.fit()\n",
    "\n",
    "# Plot correlation\n",
    "x = np.array(linear.epistasis.values[6:])\n",
    "y = np.array(nonlinear.epistasis.values[6:])\n",
    "fig, ax = plot.corr(x,y, figsize=(3,3))\n",
    "r2 = pearson(x,y)**2\n",
    "ax.annotate(\"$r^2$ = \" + str(round(r2,2)), xy=(0.005,-.005))"
   ]
  },
  {
   "cell_type": "markdown",
   "metadata": {},
   "source": [
    "# Data set II"
   ]
  },
  {
   "cell_type": "code",
   "execution_count": 14,
   "metadata": {
    "collapsed": false
   },
   "outputs": [
    {
     "data": {
      "text/plain": [
       "<matplotlib.text.Annotation at 0x1104d9fd0>"
      ]
     },
     "execution_count": 14,
     "metadata": {},
     "output_type": "execute_result"
    },
    {
     "data": {
      "image/png": "[encoded data removed]",
      "text/plain": [
       "<matplotlib.figure.Figure at 0x1108c4e10>"
      ]
     },
     "metadata": {},
     "output_type": "display_data"
    }
   ],
   "source": [
    "dataset = path + \"krug1.json\"\n",
    "\n",
    "# Fit with nonlinear model\n",
    "power = EpistasisPowerTransform.read_json(dataset, order=5, model_type=\"global\")\n",
    "power.fit(lmbda=-.5, A=1, B=0)\n",
    "plinear = power.Linear.predict()\n",
    "nonlinear = EpistasisLinearRegression.read_data(power.gpm.wildtype, power.gpm.genotypes, plinear, model_type=\"global\", order=5)\n",
    "nonlinear.fit()\n",
    "\n",
    "linear = EpistasisLinearRegression.read_json(dataset, order=5, model_type=\"global\")\n",
    "linear.fit()\n",
    "\n",
    "# Plot correlation\n",
    "x = np.array(linear.epistasis.values[6:])\n",
    "y = np.array(nonlinear.epistasis.values[6:])\n",
    "fig, ax = plot.corr(x,y, figsize=(3,3))\n",
    "r2 = pearson(x,y)**2\n",
    "ax.annotate(\"$r^2$ = \" + str(round(r2,2)), xy=(0.005,-.005))"
   ]
  },
  {
   "cell_type": "markdown",
   "metadata": {},
   "source": [
    "## Data set III"
   ]
  },
  {
   "cell_type": "code",
   "execution_count": 17,
   "metadata": {
    "collapsed": false
   },
   "outputs": [
    {
     "data": {
      "text/plain": [
       "<matplotlib.text.Annotation at 0x1106cc7f0>"
      ]
     },
     "execution_count": 17,
     "metadata": {},
     "output_type": "execute_result"
    },
    {
     "data": {
      "image/png": "[encoded data removed]",
      "text/plain": [
       "<matplotlib.figure.Figure at 0x110b4eeb8>"
      ]
     },
     "metadata": {},
     "output_type": "display_data"
    }
   ],
   "source": [
    "dataset = path + \"weinreich.json\"\n",
    "\n",
    "# Fit with nonlinear model\n",
    "power = EpistasisPowerTransform.read_json(dataset, order=5, model_type=\"global\")\n",
    "power.fit(lmbda=-1, A=0, B=0)\n",
    "plinear = power.Linear.predict()\n",
    "nonlinear = EpistasisLinearRegression.read_data(power.gpm.wildtype, power.gpm.genotypes, plinear, model_type=\"global\", order=5)\n",
    "nonlinear.fit()\n",
    "\n",
    "linear = EpistasisLinearRegression.read_json(dataset, order=5, model_type=\"global\")\n",
    "linear.fit()\n",
    "\n",
    "# Plot correlation\n",
    "x = np.array(linear.epistasis.values[6:])\n",
    "y = np.array(nonlinear.epistasis.values[6:])\n",
    "fig, ax = plot.corr(x,y, figsize=(3,3))\n",
    "r2 = pearson(x,y)**2\n",
    "ax.annotate(\"$r^2$ = \" + str(round(r2,2)), xy=(0.006,-.0025))"
   ]
  },
  {
   "cell_type": "markdown",
   "metadata": {},
   "source": [
    "## Data set IV"
   ]
  },
  {
   "cell_type": "markdown",
   "metadata": {},
   "source": [
    "Data set IV was published as $\\Delta G$s, but were given to us as $k_a$s. Before fitting with a nonlinear epistasis model, we converted the values to $\\Delta G$s to be consistent with the literature."
   ]
  },
  {
   "cell_type": "code",
   "execution_count": 19,
   "metadata": {
    "collapsed": true
   },
   "outputs": [],
   "source": [
    "dataset = path + \"anderson.json\"\n",
    "\n",
    "# gas constant and temperature\n",
    "R = 1.9872036e-3\n",
    "T = 293\n",
    "\n",
    "gpm = GenotypePhenotypeMap.read_json(dataset)\n",
    "gpm.phenotypes = - np.log(gpm.phenotypes) * R * T "
   ]
  },
  {
   "cell_type": "code",
   "execution_count": 23,
   "metadata": {
    "collapsed": false
   },
   "outputs": [
    {
     "data": {
      "text/plain": [
       "<matplotlib.text.Annotation at 0x1104b0438>"
      ]
     },
     "execution_count": 23,
     "metadata": {},
     "output_type": "execute_result"
    },
    {
     "data": {
      "image/png": "[encoded data removed]",
      "text/plain": [
       "<matplotlib.figure.Figure at 0x11089ada0>"
      ]
     },
     "metadata": {},
     "output_type": "display_data"
    }
   ],
   "source": [
    "# Fit with nonlinear model\n",
    "power = EpistasisPowerTransform.read_gpm(gpm, order=5, model_type=\"global\")\n",
    "power.fit(lmbda=-1, A=0, B=0)\n",
    "plinear = power.Linear.predict()\n",
    "nonlinear = EpistasisLinearRegression.read_data(power.gpm.wildtype, power.gpm.genotypes, plinear, mutations=power.gpm.mutations, model_type=\"global\", order=5)\n",
    "nonlinear.fit()\n",
    "\n",
    "linear = EpistasisLinearRegression.read_gpm(gpm, order=5, model_type=\"global\")\n",
    "linear.fit()\n",
    "\n",
    "# Plot correlation\n",
    "x = np.array(linear.epistasis.values[9:])\n",
    "y = np.array(nonlinear.epistasis.values[9:])\n",
    "fig, ax = plot.corr(x,y, figsize=(3,3))\n",
    "r2 = pearson(x,y)**2\n",
    "ax.annotate(\"$r^2$ = \" + str(round(r2,2)), xy=(0.0,-.2))"
   ]
  },
  {
   "cell_type": "code",
   "execution_count": null,
   "metadata": {},
   "outputs": [],
   "source": []
  }
 ],
 "metadata": {
  "kernelspec": {
   "display_name": "Python 3",
   "language": "python",
   "name": "python3"
  },
  "language_info": {
   "codemirror_mode": {
    "name": "ipython",
    "version": 3
   },
   "file_extension": ".py",
   "mimetype": "text/x-python",
   "name": "python",
   "nbconvert_exporter": "python",
   "pygments_lexer": "ipython3",
   "version": "3.6.2"
  }
 },
 "nbformat": 4,
 "nbformat_minor": 2
}
